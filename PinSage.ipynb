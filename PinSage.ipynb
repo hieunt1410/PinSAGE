{
  "nbformat": 4,
  "nbformat_minor": 0,
  "metadata": {
    "colab": {
      "provenance": [],
      "gpuType": "T4"
    },
    "kernelspec": {
      "name": "python3",
      "display_name": "Python 3"
    },
    "language_info": {
      "name": "python"
    },
    "accelerator": "GPU"
  },
  "cells": [
    {
      "cell_type": "code",
      "execution_count": 1,
      "metadata": {
        "colab": {
          "base_uri": "https://localhost:8080/"
        },
        "id": "pmY07-yCzhNS",
        "outputId": "0918e591-bc1e-41ad-d809-f3cc5d10a996"
      },
      "outputs": [
        {
          "output_type": "stream",
          "name": "stdout",
          "text": [
            "Cloning into 'PinSAGE'...\n",
            "remote: Enumerating objects: 40, done.\u001b[K\n",
            "remote: Counting objects: 100% (40/40), done.\u001b[K\n",
            "remote: Compressing objects: 100% (30/30), done.\u001b[K\n",
            "remote: Total 40 (delta 20), reused 29 (delta 10), pack-reused 0\u001b[K\n",
            "Receiving objects: 100% (40/40), 18.41 KiB | 3.07 MiB/s, done.\n",
            "Resolving deltas: 100% (20/20), done.\n"
          ]
        }
      ],
      "source": [
        "!git clone https://github.com/UwU-tao/PinSAGE.git"
      ]
    },
    {
      "cell_type": "code",
      "source": [
        "!pip install dgl -f https://data.dgl.ai/wheels/cu121/repo.html"
      ],
      "metadata": {
        "colab": {
          "base_uri": "https://localhost:8080/"
        },
        "id": "LP08FAlh0dBy",
        "outputId": "a0c3276d-3224-437b-cbda-02bff71545ac"
      },
      "execution_count": 2,
      "outputs": [
        {
          "output_type": "stream",
          "name": "stdout",
          "text": [
            "Looking in links: https://data.dgl.ai/wheels/cu121/repo.html\n",
            "Collecting dgl\n",
            "  Downloading https://data.dgl.ai/wheels/cu121/dgl-1.1.3%2Bcu121-cp310-cp310-manylinux1_x86_64.whl (79.9 MB)\n",
            "\u001b[2K     \u001b[90m━━━━━━━━━━━━━━━━━━━━━━━━━━━━━━━━━━━━━━━━\u001b[0m \u001b[32m79.9/79.9 MB\u001b[0m \u001b[31m13.3 MB/s\u001b[0m eta \u001b[36m0:00:00\u001b[0m\n",
            "\u001b[?25hRequirement already satisfied: numpy>=1.14.0 in /usr/local/lib/python3.10/dist-packages (from dgl) (1.23.5)\n",
            "Requirement already satisfied: scipy>=1.1.0 in /usr/local/lib/python3.10/dist-packages (from dgl) (1.11.4)\n",
            "Requirement already satisfied: networkx>=2.1 in /usr/local/lib/python3.10/dist-packages (from dgl) (3.2.1)\n",
            "Requirement already satisfied: requests>=2.19.0 in /usr/local/lib/python3.10/dist-packages (from dgl) (2.31.0)\n",
            "Requirement already satisfied: tqdm in /usr/local/lib/python3.10/dist-packages (from dgl) (4.66.1)\n",
            "Requirement already satisfied: psutil>=5.8.0 in /usr/local/lib/python3.10/dist-packages (from dgl) (5.9.5)\n",
            "Requirement already satisfied: charset-normalizer<4,>=2 in /usr/local/lib/python3.10/dist-packages (from requests>=2.19.0->dgl) (3.3.2)\n",
            "Requirement already satisfied: idna<4,>=2.5 in /usr/local/lib/python3.10/dist-packages (from requests>=2.19.0->dgl) (3.6)\n",
            "Requirement already satisfied: urllib3<3,>=1.21.1 in /usr/local/lib/python3.10/dist-packages (from requests>=2.19.0->dgl) (2.0.7)\n",
            "Requirement already satisfied: certifi>=2017.4.17 in /usr/local/lib/python3.10/dist-packages (from requests>=2.19.0->dgl) (2023.11.17)\n",
            "Installing collected packages: dgl\n",
            "Successfully installed dgl-1.1.3+cu121\n"
          ]
        }
      ]
    },
    {
      "cell_type": "code",
      "source": [
        "%cd PinSAGE"
      ],
      "metadata": {
        "colab": {
          "base_uri": "https://localhost:8080/"
        },
        "id": "ForzEPVuz8NL",
        "outputId": "9fe4d0a0-62c5-4e9a-9982-32f407c96e59"
      },
      "execution_count": 3,
      "outputs": [
        {
          "output_type": "stream",
          "name": "stdout",
          "text": [
            "/content/PinSAGE\n"
          ]
        }
      ]
    },
    {
      "cell_type": "code",
      "source": [
        " !wget http://files.grouplens.org/datasets/movielens/ml-1m.zip\n",
        " !unzip -qq ml-1m.zip -d ml-1m"
      ],
      "metadata": {
        "colab": {
          "base_uri": "https://localhost:8080/"
        },
        "id": "XSUy_8w2zsNT",
        "outputId": "28e2d58d-9658-4ff2-a19f-dd87870e9271"
      },
      "execution_count": 4,
      "outputs": [
        {
          "output_type": "stream",
          "name": "stdout",
          "text": [
            "--2023-12-17 12:53:08--  http://files.grouplens.org/datasets/movielens/ml-1m.zip\n",
            "Resolving files.grouplens.org (files.grouplens.org)... 128.101.65.152\n",
            "Connecting to files.grouplens.org (files.grouplens.org)|128.101.65.152|:80... connected.\n",
            "HTTP request sent, awaiting response... 200 OK\n",
            "Length: 5917549 (5.6M) [application/zip]\n",
            "Saving to: ‘ml-1m.zip’\n",
            "\n",
            "ml-1m.zip           100%[===================>]   5.64M  11.8MB/s    in 0.5s    \n",
            "\n",
            "2023-12-17 12:53:08 (11.8 MB/s) - ‘ml-1m.zip’ saved [5917549/5917549]\n",
            "\n"
          ]
        }
      ]
    },
    {
      "cell_type": "code",
      "source": [
        "!python process_movielens1m.py ./ml-1m/ml-1m ./data_processed"
      ],
      "metadata": {
        "colab": {
          "base_uri": "https://localhost:8080/"
        },
        "id": "Ml1ZIJ2q0OV7",
        "outputId": "ef23e1b1-d5bf-40e6-c457-511372e960b8"
      },
      "execution_count": 5,
      "outputs": [
        {
          "output_type": "stream",
          "name": "stdout",
          "text": [
            "DGL backend not selected or invalid.  Assuming PyTorch for now.\n",
            "Setting the default backend to \"pytorch\". You can change it in the ~/.dgl/config.json file or export the DGLBACKEND environment variable.  Valid options are: pytorch, mxnet, tensorflow (all lowercase)\n",
            "    user_id  movie_id  rating  timestamp  train_mask  val_mask  test_mask\n",
            "31        1      3186       4  978300019        True     False      False\n",
            "27        1      1721       4  978300055        True     False      False\n",
            "37        1      1022       5  978300055        True     False      False\n",
            "22        1      1270       5  978300055        True     False      False\n",
            "24        1      2340       3  978300103        True     False      False\n",
            "36        1      1836       5  978300172        True     False      False\n",
            "3         1      3408       4  978300275        True     False      False\n",
            "47        1      1207       4  978300719        True     False      False\n",
            "7         1      2804       5  978300719        True     False      False\n",
            "21        1       720       3  978300760        True     False      False\n",
            "0         1      1193       5  978300760        True     False      False\n",
            "44        1       260       4  978300760        True     False      False\n",
            "9         1       919       4  978301368        True     False      False\n",
            "51        1       608       4  978301398        True     False      False\n",
            "43        1      2692       4  978301570        True     False      False\n",
            "41        1      1961       5  978301590        True     False      False\n",
            "48        1      2028       5  978301619        True     False      False\n",
            "18        1      3105       5  978301713        True     False      False\n",
            "11        1       938       4  978301752        True     False      False\n",
            "42        1      1962       4  978301753        True     False      False\n",
            "14        1      1035       5  978301753        True     False      False\n",
            "39        1       150       5  978301777        True     False      False\n",
            "17        1      2018       4  978301777        True     False      False\n",
            "45        1      1028       5  978301777        True     False      False\n",
            "26        1      1097       4  978301953        True     False      False\n",
            "2         1       914       3  978301968        True     False      False\n",
            "19        1      2797       4  978302039        True     False      False\n",
            "6         1      1287       5  978302039        True     False      False\n",
            "38        1      2762       4  978302091        True     False      False\n",
            "52        1      1246       4  978302091        True     False      False\n",
            "1         1       661       3  978302109        True     False      False\n",
            "13        1      2918       4  978302124        True     False      False\n",
            "49        1       531       4  978302149        True     False      False\n",
            "50        1      3114       4  978302174        True     False      False\n",
            "15        1      2791       4  978302188        True     False      False\n",
            "46        1      1029       5  978302205        True     False      False\n",
            "20        1      2321       3  978302205        True     False      False\n",
            "5         1      1197       3  978302268        True     False      False\n",
            "8         1       594       4  978302268        True     False      False\n",
            "12        1      2398       4  978302281        True     False      False\n",
            "28        1      1545       4  978824139        True     False      False\n",
            "23        1       527       5  978824195        True     False      False\n",
            "40        1         1       5  978824268        True     False      False\n",
            "33        1       588       4  978824268        True     False      False\n",
            "16        1      2687       3  978824268        True     False      False\n",
            "29        1       745       3  978824268        True     False      False\n",
            "10        1       595       5  978824268        True     False      False\n",
            "30        1      2294       4  978824291        True     False      False\n",
            "35        1       783       4  978824291        True     False      False\n",
            "4         1      2355       5  978824291        True     False      False\n",
            "34        1      1907       4  978824330        True     False      False\n",
            "32        1      1566       4  978824330       False      True      False\n",
            "25        1        48       5  978824351       False     False       True\n"
          ]
        }
      ]
    },
    {
      "cell_type": "code",
      "source": [
        "!git pull\n",
        "!python model.py data_processed --num-epochs 1 --num-workers 2 --device cuda --hidden-dims 64"
      ],
      "metadata": {
        "colab": {
          "base_uri": "https://localhost:8080/"
        },
        "id": "M3UwTDoN0YOK",
        "outputId": "9e63ad7a-4c68-4a8a-b8bb-10bb703c85e9"
      },
      "execution_count": 7,
      "outputs": [
        {
          "output_type": "stream",
          "name": "stdout",
          "text": [
            "remote: Enumerating objects: 5, done.\u001b[K\n",
            "remote: Counting objects:  20% (1/5)\u001b[K\rremote: Counting objects:  40% (2/5)\u001b[K\rremote: Counting objects:  60% (3/5)\u001b[K\rremote: Counting objects:  80% (4/5)\u001b[K\rremote: Counting objects: 100% (5/5)\u001b[K\rremote: Counting objects: 100% (5/5), done.\u001b[K\n",
            "remote: Compressing objects: 100% (1/1)\u001b[K\rremote: Compressing objects: 100% (1/1), done.\u001b[K\n",
            "remote: Total 3 (delta 2), reused 3 (delta 2), pack-reused 0\u001b[K\n",
            "Unpacking objects:  33% (1/3)\rUnpacking objects:  66% (2/3)\rUnpacking objects: 100% (3/3)\rUnpacking objects: 100% (3/3), 276 bytes | 276.00 KiB/s, done.\n",
            "From https://github.com/UwU-tao/PinSAGE\n",
            "   6732c75..f368e38  main       -> origin/main\n",
            "Updating 6732c75..f368e38\n",
            "Fast-forward\n",
            " evaluation.py | 2 \u001b[32m+\u001b[m\u001b[31m-\u001b[m\n",
            " 1 file changed, 1 insertion(+), 1 deletion(-)\n",
            "100% 20000/20000 [20:32<00:00, 16.22it/s]\n",
            "Precision@k:  0.05380794701986755  | Recall@k:  0.05380794701986755  | NDCG@k:  0.026052749977077107\n"
          ]
        }
      ]
    },
    {
      "cell_type": "code",
      "source": [],
      "metadata": {
        "id": "FBzffPTs3_eI"
      },
      "execution_count": null,
      "outputs": []
    }
  ]
}